{
 "cells": [
  {
   "cell_type": "code",
   "execution_count": 1,
   "id": "3d663b31-1a85-4f7f-93e2-c3a1f533f78d",
   "metadata": {},
   "outputs": [],
   "source": [
    "# Create an iterator class in Python that generates the Fibonacci sequence up to a specified number of terms."
   ]
  },
  {
   "cell_type": "code",
   "execution_count": 4,
   "id": "65deaddf-6733-4589-80ba-348588758e63",
   "metadata": {},
   "outputs": [
    {
     "name": "stdout",
     "output_type": "stream",
     "text": [
      "Fibonacci Series:  0 1 1 2 3 5 8 13 21 34\n"
     ]
    }
   ],
   "source": [
    "def fibonacci(n):\n",
    "    l = [0,1]\n",
    "    for i in range(2,n):\n",
    "        l.append(l[-1]+l[-2])\n",
    "    return l\n",
    "\n",
    "n = 10\n",
    "fibo = fibonacci(n)  \n",
    "print(\"Fibonacci Series: \",*fibo)"
   ]
  },
  {
   "cell_type": "code",
   "execution_count": null,
   "id": "a00e49d6-073f-4c37-a9ec-9ea70bffc550",
   "metadata": {},
   "outputs": [],
   "source": []
  },
  {
   "cell_type": "code",
   "execution_count": null,
   "id": "9b7feff3-84ef-4c7b-9533-c8b7cdcc5218",
   "metadata": {},
   "outputs": [],
   "source": []
  },
  {
   "cell_type": "code",
   "execution_count": null,
   "id": "c22b3d97-0600-409f-9f73-312e521b87cd",
   "metadata": {},
   "outputs": [],
   "source": []
  }
 ],
 "metadata": {
  "kernelspec": {
   "display_name": "Python 3 (ipykernel)",
   "language": "python",
   "name": "python3"
  },
  "language_info": {
   "codemirror_mode": {
    "name": "ipython",
    "version": 3
   },
   "file_extension": ".py",
   "mimetype": "text/x-python",
   "name": "python",
   "nbconvert_exporter": "python",
   "pygments_lexer": "ipython3",
   "version": "3.10.8"
  }
 },
 "nbformat": 4,
 "nbformat_minor": 5
}
