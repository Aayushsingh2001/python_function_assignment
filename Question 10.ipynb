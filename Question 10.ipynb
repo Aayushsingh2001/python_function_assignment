{
 "cells": [
  {
   "cell_type": "code",
   "execution_count": 1,
   "id": "bfc694d4-929b-493d-8405-12581d1cef7d",
   "metadata": {},
   "outputs": [],
   "source": [
    "# Create a Python program that uses `filter()` to remove all the vowels from a given string."
   ]
  },
  {
   "cell_type": "code",
   "execution_count": 2,
   "id": "33b24d47-435a-4a93-8a79-b054bbd7b895",
   "metadata": {},
   "outputs": [
    {
     "name": "stdout",
     "output_type": "stream",
     "text": [
      "my nm s ysh sngh.  m frm grkhpr\n"
     ]
    }
   ],
   "source": [
    "def is_not_vowel(char):\n",
    "    vowels = 'aeiouAEIOU'\n",
    "    return char not in vowels\n",
    "\n",
    "def remove_vowels(input_string):\n",
    "    filtered_chars = filter(is_not_vowel, input_string)\n",
    "    return ''.join(filtered_chars)\n",
    "\n",
    "original_string = \"my name is aayush singh. i am from gorakhpur\"\n",
    "result_string = remove_vowels(original_string)\n",
    "print(result_string)\n"
   ]
  },
  {
   "cell_type": "code",
   "execution_count": null,
   "id": "1d649954-c023-417d-bcf5-851eff71a50a",
   "metadata": {},
   "outputs": [],
   "source": []
  }
 ],
 "metadata": {
  "kernelspec": {
   "display_name": "Python 3 (ipykernel)",
   "language": "python",
   "name": "python3"
  },
  "language_info": {
   "codemirror_mode": {
    "name": "ipython",
    "version": 3
   },
   "file_extension": ".py",
   "mimetype": "text/x-python",
   "name": "python",
   "nbconvert_exporter": "python",
   "pygments_lexer": "ipython3",
   "version": "3.10.8"
  }
 },
 "nbformat": 4,
 "nbformat_minor": 5
}
