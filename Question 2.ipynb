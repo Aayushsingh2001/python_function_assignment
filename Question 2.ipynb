{
 "cells": [
  {
   "cell_type": "code",
   "execution_count": 1,
   "id": "725ec1b2-df39-41e3-937f-c302a8b4e569",
   "metadata": {},
   "outputs": [],
   "source": [
    "# Create a Python function that accepts a string and returns the reverse of that string."
   ]
  },
  {
   "cell_type": "code",
   "execution_count": 9,
   "id": "e8af1098-4373-4c6a-9290-86f87d6b0d30",
   "metadata": {},
   "outputs": [
    {
     "name": "stdout",
     "output_type": "stream",
     "text": [
      "hsuyaA\n"
     ]
    }
   ],
   "source": [
    "string = \"Aayush\"\n",
    "def reverse_str(string):\n",
    "    return string[::-1]\n",
    "\n",
    "reversed_str = reverse_str(string)\n",
    "print(reversed_str)"
   ]
  },
  {
   "cell_type": "code",
   "execution_count": null,
   "id": "bd95cb1f-3b28-4046-971a-c8190c5e851c",
   "metadata": {},
   "outputs": [],
   "source": []
  }
 ],
 "metadata": {
  "kernelspec": {
   "display_name": "Python 3 (ipykernel)",
   "language": "python",
   "name": "python3"
  },
  "language_info": {
   "codemirror_mode": {
    "name": "ipython",
    "version": 3
   },
   "file_extension": ".py",
   "mimetype": "text/x-python",
   "name": "python",
   "nbconvert_exporter": "python",
   "pygments_lexer": "ipython3",
   "version": "3.10.8"
  }
 },
 "nbformat": 4,
 "nbformat_minor": 5
}
