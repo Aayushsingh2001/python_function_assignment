{
 "cells": [
  {
   "cell_type": "code",
   "execution_count": 4,
   "id": "6e80e8c8-1c1a-4c1a-9dbb-b136f89b60c9",
   "metadata": {},
   "outputs": [
    {
     "name": "stdout",
     "output_type": "stream",
     "text": [
      "[(34587, 163.8), (98762, 284.0), (77226, 108.85000000000001), (88112, 84.97)]\n"
     ]
    }
   ],
   "source": [
    "orders = [\n",
    "    [34587, 'Learning Python, Mark Lutz', 4, 40.95],\n",
    "    [98762, 'Programming Python, Mark Lutz', 5, 56.80],\n",
    "    [77226, 'Head First Python, Paul Barry', 3, 32.95],\n",
    "    [88112, 'Einführung in Python3, Bernd Klein', 3, 24.99]\n",
    "]\n",
    "\n",
    "result = list(map(lambda order: (order[0], order[3] * order[2] + 10 if order[3] * order[2] < 100 else order[3] * order[2]), orders))\n",
    "print(result)"
   ]
  },
  {
   "cell_type": "code",
   "execution_count": null,
   "id": "6015f60d-0427-4810-9b8b-8fa57f7aa205",
   "metadata": {},
   "outputs": [],
   "source": []
  }
 ],
 "metadata": {
  "kernelspec": {
   "display_name": "Python 3 (ipykernel)",
   "language": "python",
   "name": "python3"
  },
  "language_info": {
   "codemirror_mode": {
    "name": "ipython",
    "version": 3
   },
   "file_extension": ".py",
   "mimetype": "text/x-python",
   "name": "python",
   "nbconvert_exporter": "python",
   "pygments_lexer": "ipython3",
   "version": "3.10.8"
  }
 },
 "nbformat": 4,
 "nbformat_minor": 5
}
