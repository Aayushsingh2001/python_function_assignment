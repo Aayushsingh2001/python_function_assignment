{
 "cells": [
  {
   "cell_type": "code",
   "execution_count": 1,
   "id": "1f483dde-40e7-456a-93fc-d37ef7321f4c",
   "metadata": {},
   "outputs": [],
   "source": [
    "# Implement a generator function that reads a file line by line and yields each line as a string."
   ]
  },
  {
   "cell_type": "code",
   "execution_count": 3,
   "id": "eb546362-07d7-44ae-b8ff-0b3bfd766abd",
   "metadata": {},
   "outputs": [
    {
     "name": "stdout",
     "output_type": "stream",
     "text": [
      "my name is aayush singh.\n",
      "i am from gorakhpur.\n"
     ]
    }
   ],
   "source": [
    "def read_lines(file_path):\n",
    "   \n",
    "    with open(file_path, 'r') as file:\n",
    "        for line in file:\n",
    "            yield line.strip() \n",
    "\n",
    "file_path = 'example.txt'\n",
    "\n",
    "line_generator = read_lines(file_path)\n",
    "\n",
    "for line in line_generator:\n",
    "    print(line)\n"
   ]
  },
  {
   "cell_type": "code",
   "execution_count": null,
   "id": "5db52be4-998e-462c-a23e-6cb48c18a215",
   "metadata": {},
   "outputs": [],
   "source": []
  }
 ],
 "metadata": {
  "kernelspec": {
   "display_name": "Python 3 (ipykernel)",
   "language": "python",
   "name": "python3"
  },
  "language_info": {
   "codemirror_mode": {
    "name": "ipython",
    "version": 3
   },
   "file_extension": ".py",
   "mimetype": "text/x-python",
   "name": "python",
   "nbconvert_exporter": "python",
   "pygments_lexer": "ipython3",
   "version": "3.10.8"
  }
 },
 "nbformat": 4,
 "nbformat_minor": 5
}
