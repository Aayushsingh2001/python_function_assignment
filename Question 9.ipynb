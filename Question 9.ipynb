{
 "cells": [
  {
   "cell_type": "code",
   "execution_count": 1,
   "id": "ae627b85-4269-4c07-a092-0c6ffb35095f",
   "metadata": {},
   "outputs": [],
   "source": [
    "# Write a Python program that uses `map()` to convert a list of temperatures from Celsius to Fahrenheit."
   ]
  },
  {
   "cell_type": "code",
   "execution_count": 2,
   "id": "2a0d34b6-3597-4f15-b044-fc40cc7f3f7c",
   "metadata": {},
   "outputs": [
    {
     "name": "stdout",
     "output_type": "stream",
     "text": [
      "[32.0, 68.0, 98.6, 212.0]\n"
     ]
    }
   ],
   "source": [
    "def convert_celsius_to_fahrenheit(celsius):\n",
    "    return (celsius * 9/5) + 32\n",
    "\n",
    "celsius_temperatures = [0, 20, 37, 100]\n",
    "\n",
    "fahrenheit_temperatures = list(map(convert_celsius_to_fahrenheit, celsius_temperatures))\n",
    "print(fahrenheit_temperatures)\n"
   ]
  },
  {
   "cell_type": "code",
   "execution_count": null,
   "id": "62a0cac6-9eb5-4f5f-95d6-36ff64236a04",
   "metadata": {},
   "outputs": [],
   "source": []
  }
 ],
 "metadata": {
  "kernelspec": {
   "display_name": "Python 3 (ipykernel)",
   "language": "python",
   "name": "python3"
  },
  "language_info": {
   "codemirror_mode": {
    "name": "ipython",
    "version": 3
   },
   "file_extension": ".py",
   "mimetype": "text/x-python",
   "name": "python",
   "nbconvert_exporter": "python",
   "pygments_lexer": "ipython3",
   "version": "3.10.8"
  }
 },
 "nbformat": 4,
 "nbformat_minor": 5
}
