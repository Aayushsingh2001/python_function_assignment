{
 "cells": [
  {
   "cell_type": "code",
   "execution_count": 1,
   "id": "70ca0e44-8abb-4b79-a572-c777c89e9ed8",
   "metadata": {},
   "outputs": [],
   "source": [
    "# Implement a Python function that takes a list of integers and returns a new list containing the squares of each number."
   ]
  },
  {
   "cell_type": "code",
   "execution_count": 11,
   "id": "20f11356-b305-4ce7-ab0c-141fa8bd7bff",
   "metadata": {},
   "outputs": [
    {
     "name": "stdout",
     "output_type": "stream",
     "text": [
      "[1, 4, 9, 16, 25, 36, 49, 64, 81, 100]\n"
     ]
    }
   ],
   "source": [
    "input_list = [1,2,3,4,5,6,7,8,9,10]\n",
    "\n",
    "def square_of_numbers(num):\n",
    "    return [n**2 for n in num]\n",
    "        \n",
    "squared_list = square_of_numbers(input_list)\n",
    "print(squared_list)"
   ]
  },
  {
   "cell_type": "code",
   "execution_count": null,
   "id": "25a02159-ef3c-4f60-83db-a19a71153f0b",
   "metadata": {},
   "outputs": [],
   "source": []
  }
 ],
 "metadata": {
  "kernelspec": {
   "display_name": "Python 3 (ipykernel)",
   "language": "python",
   "name": "python3"
  },
  "language_info": {
   "codemirror_mode": {
    "name": "ipython",
    "version": 3
   },
   "file_extension": ".py",
   "mimetype": "text/x-python",
   "name": "python",
   "nbconvert_exporter": "python",
   "pygments_lexer": "ipython3",
   "version": "3.10.8"
  }
 },
 "nbformat": 4,
 "nbformat_minor": 5
}
