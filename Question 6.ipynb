{
 "cells": [
  {
   "cell_type": "code",
   "execution_count": 1,
   "id": "a1272272-e0c6-4c0c-807f-dd59cb1eea35",
   "metadata": {},
   "outputs": [],
   "source": [
    "# Write a generator function in Python that yields the powers of 2 up to a given exponent."
   ]
  },
  {
   "cell_type": "code",
   "execution_count": 2,
   "id": "c2cf2431-f96c-4f8e-a966-773abd42e2db",
   "metadata": {},
   "outputs": [
    {
     "name": "stdout",
     "output_type": "stream",
     "text": [
      "1\n",
      "2\n",
      "4\n",
      "8\n",
      "16\n",
      "32\n",
      "64\n",
      "128\n",
      "256\n",
      "512\n",
      "1024\n"
     ]
    }
   ],
   "source": [
    "def power_of_2(maximum_exponent):\n",
    "    for expo in range(maximum_exponent + 1):\n",
    "        yield 2**expo\n",
    "        \n",
    "generator = power_of_2(10)\n",
    "for power in generator:\n",
    "    print(power)"
   ]
  },
  {
   "cell_type": "code",
   "execution_count": null,
   "id": "af534f17-1fe7-4ed4-9074-76867e2c0545",
   "metadata": {},
   "outputs": [],
   "source": []
  }
 ],
 "metadata": {
  "kernelspec": {
   "display_name": "Python 3 (ipykernel)",
   "language": "python",
   "name": "python3"
  },
  "language_info": {
   "codemirror_mode": {
    "name": "ipython",
    "version": 3
   },
   "file_extension": ".py",
   "mimetype": "text/x-python",
   "name": "python",
   "nbconvert_exporter": "python",
   "pygments_lexer": "ipython3",
   "version": "3.10.8"
  }
 },
 "nbformat": 4,
 "nbformat_minor": 5
}
