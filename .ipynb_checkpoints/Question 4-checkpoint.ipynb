{
 "cells": [
  {
   "cell_type": "code",
   "execution_count": 1,
   "id": "5163e9b2-37d6-4d20-a64c-0107e13e252e",
   "metadata": {},
   "outputs": [],
   "source": [
    "# Write a Python function that checks if a given number is prime or not from 1 to 200."
   ]
  },
  {
   "cell_type": "code",
   "execution_count": null,
   "id": "c389c0c8-882d-45c3-ad25-88eb929eda48",
   "metadata": {},
   "outputs": [],
   "source": [
    "input_numbers = int(input(\"Enter a number from 1 to 200 >> \"))\n",
    "def check_prime(n):\n",
    "    if n>=1 and n<=200:\n",
    "        if n%2 == 0:\n",
    "            print(f\"{n} is not prime\")\n",
    "        elif n/n and n/1:\n",
    "            print(f\"{n} is prime\")\n",
    "    else:\n",
    "        print(f\"{n} is not between 1 to 200\")\n",
    "\n",
    "check_prime(input_numbers)"
   ]
  },
  {
   "cell_type": "code",
   "execution_count": null,
   "id": "603bdce5-83e9-49ee-bad8-c678f4c5c426",
   "metadata": {},
   "outputs": [],
   "source": []
  },
  {
   "cell_type": "code",
   "execution_count": null,
   "id": "a9f7b6c7-0768-4483-850b-f141c46deda1",
   "metadata": {},
   "outputs": [],
   "source": []
  }
 ],
 "metadata": {
  "kernelspec": {
   "display_name": "Python 3 (ipykernel)",
   "language": "python",
   "name": "python3"
  },
  "language_info": {
   "codemirror_mode": {
    "name": "ipython",
    "version": 3
   },
   "file_extension": ".py",
   "mimetype": "text/x-python",
   "name": "python",
   "nbconvert_exporter": "python",
   "pygments_lexer": "ipython3",
   "version": "3.10.8"
  }
 },
 "nbformat": 4,
 "nbformat_minor": 5
}
